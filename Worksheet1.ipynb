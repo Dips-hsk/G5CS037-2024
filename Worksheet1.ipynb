{
  "nbformat": 4,
  "nbformat_minor": 0,
  "metadata": {
    "colab": {
      "provenance": []
    },
    "kernelspec": {
      "name": "python3",
      "display_name": "Python 3"
    },
    "language_info": {
      "name": "python"
    }
  },
  "cells": [
    {
      "cell_type": "markdown",
      "source": [
        "# **Array Creation**"
      ],
      "metadata": {
        "id": "UBB-b71EokH9"
      }
    },
    {
      "cell_type": "markdown",
      "source": [
        "**Problem - 1: Array Creation: **"
      ],
      "metadata": {
        "id": "KHfLspdDMSmX"
      }
    },
    {
      "cell_type": "code",
      "source": [
        "import numpy as np\n",
        "a=np.zeros((2,2),dtype=\"int32\")\n",
        "print(a)"
      ],
      "metadata": {
        "colab": {
          "base_uri": "https://localhost:8080/"
        },
        "id": "vx1t2pM9J9MJ",
        "outputId": "f7a3a9e4-7859-49b0-efe5-d06bb47b9f6a"
      },
      "execution_count": null,
      "outputs": [
        {
          "output_type": "stream",
          "name": "stdout",
          "text": [
            "[[0 0]\n",
            " [0 0]]\n"
          ]
        }
      ]
    },
    {
      "cell_type": "code",
      "source": [
        "import numpy as np\n",
        "b=np.ones((4,2))\n",
        "print(b)"
      ],
      "metadata": {
        "colab": {
          "base_uri": "https://localhost:8080/"
        },
        "id": "elBg5WlAKKX7",
        "outputId": "fdbb6490-885e-42a3-865a-aa41b9818ed0"
      },
      "execution_count": null,
      "outputs": [
        {
          "output_type": "stream",
          "name": "stdout",
          "text": [
            "[[1. 1.]\n",
            " [1. 1.]\n",
            " [1. 1.]\n",
            " [1. 1.]]\n"
          ]
        }
      ]
    },
    {
      "cell_type": "code",
      "source": [
        "import numpy as np\n",
        "c=np.full((4,2),\"fill_value\")\n",
        "print(c)"
      ],
      "metadata": {
        "colab": {
          "base_uri": "https://localhost:8080/"
        },
        "id": "E7bnIyVMKdE-",
        "outputId": "3b12f3fd-3a86-4295-9daa-cbaa2ec0165a"
      },
      "execution_count": null,
      "outputs": [
        {
          "output_type": "stream",
          "name": "stdout",
          "text": [
            "[['fill_value' 'fill_value']\n",
            " ['fill_value' 'fill_value']\n",
            " ['fill_value' 'fill_value']\n",
            " ['fill_value' 'fill_value']]\n"
          ]
        }
      ]
    },
    {
      "cell_type": "code",
      "source": [
        "import numpy as np\n",
        "d=np.zeros_like(a)\n",
        "print(d)"
      ],
      "metadata": {
        "colab": {
          "base_uri": "https://localhost:8080/"
        },
        "id": "FuBsk7rMK3LO",
        "outputId": "470ba10b-404e-4262-8331-2efbea67311b"
      },
      "execution_count": null,
      "outputs": [
        {
          "output_type": "stream",
          "name": "stdout",
          "text": [
            "[[0 0]\n",
            " [0 0]]\n"
          ]
        }
      ]
    },
    {
      "cell_type": "code",
      "source": [
        "import numpy as np\n",
        "e=np.ones_like(b)\n",
        "print(e)"
      ],
      "metadata": {
        "colab": {
          "base_uri": "https://localhost:8080/"
        },
        "id": "Y0LDk5aGLTc2",
        "outputId": "59b6bb68-83b6-4219-af2f-fff33d1cd535"
      },
      "execution_count": null,
      "outputs": [
        {
          "output_type": "stream",
          "name": "stdout",
          "text": [
            "[[1. 1.]\n",
            " [1. 1.]\n",
            " [1. 1.]\n",
            " [1. 1.]]\n"
          ]
        }
      ]
    },
    {
      "cell_type": "code",
      "source": [
        "import numpy as np\n",
        "new_list=[1,2,3,4]\n",
        "print(new_list)\n",
        "new_array=np.array(new_list)\n",
        "print(new_array)"
      ],
      "metadata": {
        "colab": {
          "base_uri": "https://localhost:8080/"
        },
        "id": "hlRL2CqULuv8",
        "outputId": "4f73df4b-7dc0-46f3-fe3e-03d6229d0527"
      },
      "execution_count": null,
      "outputs": [
        {
          "output_type": "stream",
          "name": "stdout",
          "text": [
            "[1, 2, 3, 4]\n",
            "[1 2 3 4]\n"
          ]
        }
      ]
    },
    {
      "cell_type": "markdown",
      "source": [
        "**Problem - 2: Array Manipulation**"
      ],
      "metadata": {
        "id": "agWeeiDNMtUI"
      }
    },
    {
      "cell_type": "code",
      "source": [
        "import numpy as np\n",
        "a=np.arange(10,49)\n",
        "print(a)"
      ],
      "metadata": {
        "colab": {
          "base_uri": "https://localhost:8080/"
        },
        "id": "HNNNfbUuM7ey",
        "outputId": "d5f6dec6-8b72-49db-c69c-02b54b951db7"
      },
      "execution_count": null,
      "outputs": [
        {
          "output_type": "stream",
          "name": "stdout",
          "text": [
            "[10 11 12 13 14 15 16 17 18 19 20 21 22 23 24 25 26 27 28 29 30 31 32 33\n",
            " 34 35 36 37 38 39 40 41 42 43 44 45 46 47 48]\n"
          ]
        }
      ]
    },
    {
      "cell_type": "code",
      "source": [
        "import numpy as np\n",
        "b=np.arange(0,9)\n",
        "print(b)\n",
        "\n",
        "c=b.reshape((3,3))\n",
        "print(c)"
      ],
      "metadata": {
        "colab": {
          "base_uri": "https://localhost:8080/"
        },
        "id": "Qu6_96iVOabM",
        "outputId": "2908002c-a392-4241-f1e4-2c688eba29fa"
      },
      "execution_count": null,
      "outputs": [
        {
          "output_type": "stream",
          "name": "stdout",
          "text": [
            "[0 1 2 3 4 5 6 7 8]\n",
            "[[0 1 2]\n",
            " [3 4 5]\n",
            " [6 7 8]]\n"
          ]
        }
      ]
    },
    {
      "cell_type": "code",
      "source": [
        "import numpy as np\n",
        "d=np.eye(3)\n",
        "print(d)\n"
      ],
      "metadata": {
        "colab": {
          "base_uri": "https://localhost:8080/"
        },
        "id": "mxaRVv99PIhy",
        "outputId": "a789c5a3-d99f-44a6-eb77-1611efdf828b"
      },
      "execution_count": null,
      "outputs": [
        {
          "output_type": "stream",
          "name": "stdout",
          "text": [
            "[[1. 0. 0.]\n",
            " [0. 1. 0.]\n",
            " [0. 0. 1.]]\n"
          ]
        },
        {
          "output_type": "execute_result",
          "data": {
            "text/plain": [
              "72"
            ]
          },
          "metadata": {},
          "execution_count": 61
        }
      ]
    },
    {
      "cell_type": "code",
      "source": [
        "import numpy as np\n",
        "e=np.random.rand(30)\n",
        "print(e)\n",
        "f=e.mean()\n",
        "print(f)\n",
        "np.size(e)"
      ],
      "metadata": {
        "colab": {
          "base_uri": "https://localhost:8080/"
        },
        "id": "NTUmxDAVPYve",
        "outputId": "9e3beca3-af6d-4a81-dbb2-f009f0fcb253"
      },
      "execution_count": null,
      "outputs": [
        {
          "output_type": "stream",
          "name": "stdout",
          "text": [
            "[0.09368919 0.46794086 0.79365857 0.54128626 0.62894166 0.52750032\n",
            " 0.23649062 0.75816383 0.25105315 0.24170538 0.56805352 0.45554149\n",
            " 0.05125829 0.272927   0.85591116 0.28006056 0.31867067 0.17063925\n",
            " 0.05543358 0.17000691 0.09004887 0.82448796 0.30750478 0.24432846\n",
            " 0.21249286 0.87384191 0.50490214 0.51601308 0.20615033 0.42939098]\n",
            "0.3982697881242514\n"
          ]
        },
        {
          "output_type": "execute_result",
          "data": {
            "text/plain": [
              "30"
            ]
          },
          "metadata": {},
          "execution_count": 101
        }
      ]
    },
    {
      "cell_type": "code",
      "source": [
        "import numpy as np\n",
        "f=np.random.rand(10,10)\n",
        "min=np.min(f)\n",
        "max=np.max(f)\n",
        "print(min)\n",
        "print(max)"
      ],
      "metadata": {
        "colab": {
          "base_uri": "https://localhost:8080/"
        },
        "id": "bxeExa4fQhK6",
        "outputId": "17f21b77-55f2-4f6e-8f4d-5677a9b50297"
      },
      "execution_count": null,
      "outputs": [
        {
          "output_type": "stream",
          "name": "stdout",
          "text": [
            "0.006149340999413888\n",
            "0.9723639630019355\n"
          ]
        }
      ]
    },
    {
      "cell_type": "code",
      "source": [
        "import numpy as np\n",
        "g=np.zeros((1,10))\n",
        "print(g)\n",
        "\n",
        "g[:,4]=1\n",
        "print(g)"
      ],
      "metadata": {
        "colab": {
          "base_uri": "https://localhost:8080/"
        },
        "id": "LZHhFcSlQT_N",
        "outputId": "6f03066c-7571-4fa4-9959-0750e63b4530"
      },
      "execution_count": null,
      "outputs": [
        {
          "output_type": "stream",
          "name": "stdout",
          "text": [
            "[[0. 0. 0. 0. 0. 0. 0. 0. 0. 0.]]\n",
            "[[0. 0. 0. 0. 1. 0. 0. 0. 0. 0.]]\n"
          ]
        }
      ]
    },
    {
      "cell_type": "code",
      "source": [
        "import numpy as np\n",
        "arr=np.array([1,2,0,0,4,0])\n",
        "rev_arr=arr[::-1]\n",
        "print(rev_arr)"
      ],
      "metadata": {
        "colab": {
          "base_uri": "https://localhost:8080/"
        },
        "id": "XQIPjdjtTVzM",
        "outputId": "fc6d28e5-ea79-44b6-cd36-5f94cec5c5fa"
      },
      "execution_count": null,
      "outputs": [
        {
          "output_type": "stream",
          "name": "stdout",
          "text": [
            "[0 4 0 0 2 1]\n"
          ]
        }
      ]
    },
    {
      "cell_type": "code",
      "source": [
        "import numpy as np\n",
        "ones=np.ones((4,4))\n",
        "print(ones)\n",
        "\n",
        "zeros=np.zeros((2,2))\n",
        "print(zeros)\n",
        "\n",
        "ones[1:-1,1:-1]=zeros\n",
        "print(ones)"
      ],
      "metadata": {
        "colab": {
          "base_uri": "https://localhost:8080/"
        },
        "id": "w5eX1_QYTRMx",
        "outputId": "5657d3d4-8d08-4845-f44d-72ce99be0a59"
      },
      "execution_count": null,
      "outputs": [
        {
          "output_type": "stream",
          "name": "stdout",
          "text": [
            "[[1. 1. 1. 1.]\n",
            " [1. 1. 1. 1.]\n",
            " [1. 1. 1. 1.]\n",
            " [1. 1. 1. 1.]]\n",
            "[[0. 0.]\n",
            " [0. 0.]]\n",
            "[[1. 1. 1. 1.]\n",
            " [1. 0. 0. 1.]\n",
            " [1. 0. 0. 1.]\n",
            " [1. 1. 1. 1.]]\n"
          ]
        }
      ]
    },
    {
      "cell_type": "code",
      "source": [
        "import numpy as np\n",
        "a=np.full((8,8),1)\n",
        "a[1::2, ::2]=0\n",
        "a[::2, 1::2]=0\n",
        "print(a)\n"
      ],
      "metadata": {
        "colab": {
          "base_uri": "https://localhost:8080/"
        },
        "id": "hfKRoHOeboSU",
        "outputId": "e0d58818-4e5b-4acf-9af4-0ba2cb377e88"
      },
      "execution_count": null,
      "outputs": [
        {
          "output_type": "stream",
          "name": "stdout",
          "text": [
            "[[1 0 1 0 1 0 1 0]\n",
            " [0 1 0 1 0 1 0 1]\n",
            " [1 0 1 0 1 0 1 0]\n",
            " [0 1 0 1 0 1 0 1]\n",
            " [1 0 1 0 1 0 1 0]\n",
            " [0 1 0 1 0 1 0 1]\n",
            " [1 0 1 0 1 0 1 0]\n",
            " [0 1 0 1 0 1 0 1]]\n"
          ]
        }
      ]
    },
    {
      "cell_type": "markdown",
      "source": [
        "**Problem - 3: Array Operation**"
      ],
      "metadata": {
        "id": "ITnxNxuXdTNW"
      }
    },
    {
      "cell_type": "code",
      "source": [
        "import numpy as np\n",
        "x = np.array([[1,2],[3,5]])\n",
        "y = np.array([[5,6],[7,8]])\n",
        "v = np.array([9,10])\n",
        "w = np.array([11,12])\n",
        "print(w)"
      ],
      "metadata": {
        "colab": {
          "base_uri": "https://localhost:8080/"
        },
        "id": "8Gvaq8j9dRIk",
        "outputId": "528eeed6-e30b-416c-d6cd-44dae117dc93"
      },
      "execution_count": null,
      "outputs": [
        {
          "output_type": "stream",
          "name": "stdout",
          "text": [
            "[11 12]\n"
          ]
        }
      ]
    },
    {
      "cell_type": "code",
      "source": [
        "import numpy as np\n",
        "\n",
        "print(x+y)\n"
      ],
      "metadata": {
        "colab": {
          "base_uri": "https://localhost:8080/"
        },
        "id": "v28T61iPdxye",
        "outputId": "4271b056-a3ae-43e1-9298-02fd2d5d4c75"
      },
      "execution_count": null,
      "outputs": [
        {
          "output_type": "stream",
          "name": "stdout",
          "text": [
            "[[ 6  8]\n",
            " [10 13]]\n"
          ]
        }
      ]
    },
    {
      "cell_type": "code",
      "source": [
        "import numpy as np\n",
        "print(x-y)"
      ],
      "metadata": {
        "colab": {
          "base_uri": "https://localhost:8080/"
        },
        "id": "KQEwyBN9eJcA",
        "outputId": "51618347-5cc1-4c25-9a91-7b04d578867e"
      },
      "execution_count": null,
      "outputs": [
        {
          "output_type": "stream",
          "name": "stdout",
          "text": [
            "[[-4 -4]\n",
            " [-4 -3]]\n"
          ]
        }
      ]
    },
    {
      "cell_type": "code",
      "source": [
        "import numpy as np\n",
        "print(x*2)"
      ],
      "metadata": {
        "colab": {
          "base_uri": "https://localhost:8080/"
        },
        "id": "tj58v2O0ePCe",
        "outputId": "f1a72d7c-372b-4ff4-833d-0d28a817cde2"
      },
      "execution_count": null,
      "outputs": [
        {
          "output_type": "stream",
          "name": "stdout",
          "text": [
            "[[ 2  4]\n",
            " [ 6 10]]\n"
          ]
        }
      ]
    },
    {
      "cell_type": "code",
      "source": [
        "import numpy as np\n",
        "print(x**2)"
      ],
      "metadata": {
        "colab": {
          "base_uri": "https://localhost:8080/"
        },
        "id": "35HYDvgKegsy",
        "outputId": "e14a5428-b22f-4cd7-d917-801e3c5a84af"
      },
      "execution_count": null,
      "outputs": [
        {
          "output_type": "stream",
          "name": "stdout",
          "text": [
            "[[ 1  4]\n",
            " [ 9 25]]\n"
          ]
        }
      ]
    },
    {
      "cell_type": "code",
      "source": [
        "vw=np.dot(v,w)\n",
        "print(vw)\n",
        "xv=np.dot(x,v)\n",
        "print(xv)\n",
        "xy=np.dot(x,y)\n",
        "print(xy)"
      ],
      "metadata": {
        "colab": {
          "base_uri": "https://localhost:8080/"
        },
        "id": "v0oB45GTetBm",
        "outputId": "7f16f695-e9c7-41c6-d534-7f3d04e4f380"
      },
      "execution_count": null,
      "outputs": [
        {
          "output_type": "stream",
          "name": "stdout",
          "text": [
            "219\n",
            "[29 77]\n",
            "[[19 22]\n",
            " [50 58]]\n"
          ]
        }
      ]
    },
    {
      "cell_type": "code",
      "source": [
        "import numpy as np\n",
        "h=np.hstack([x,y])\n",
        "print(h)\n",
        "z=np.vstack([v,w])\n",
        "print(z)"
      ],
      "metadata": {
        "colab": {
          "base_uri": "https://localhost:8080/"
        },
        "id": "B2f-oPZqfN_s",
        "outputId": "952d9da8-cdd2-40e3-9b3e-ec5e9bdad3ad"
      },
      "execution_count": null,
      "outputs": [
        {
          "output_type": "stream",
          "name": "stdout",
          "text": [
            "[[1 2 5 6]\n",
            " [3 5 7 8]]\n",
            "[[ 9 10]\n",
            " [11 12]]\n"
          ]
        }
      ]
    },
    {
      "cell_type": "code",
      "source": [
        "import numpy as np\n",
        "c=np.concatenate([x,v])\n",
        "print(c)"
      ],
      "metadata": {
        "colab": {
          "base_uri": "https://localhost:8080/",
          "height": 193
        },
        "id": "SgvbENQmgs3b",
        "outputId": "32767f32-e9f2-4b88-bec7-889c8c2c16be"
      },
      "execution_count": null,
      "outputs": [
        {
          "output_type": "error",
          "ename": "ValueError",
          "evalue": "all the input arrays must have same number of dimensions, but the array at index 0 has 2 dimension(s) and the array at index 1 has 1 dimension(s)",
          "traceback": [
            "\u001b[0;31m---------------------------------------------------------------------------\u001b[0m",
            "\u001b[0;31mValueError\u001b[0m                                Traceback (most recent call last)",
            "\u001b[0;32m<ipython-input-178-56f2911c0844>\u001b[0m in \u001b[0;36m<cell line: 2>\u001b[0;34m()\u001b[0m\n\u001b[1;32m      1\u001b[0m \u001b[0;32mimport\u001b[0m \u001b[0mnumpy\u001b[0m \u001b[0;32mas\u001b[0m \u001b[0mnp\u001b[0m\u001b[0;34m\u001b[0m\u001b[0;34m\u001b[0m\u001b[0m\n\u001b[0;32m----> 2\u001b[0;31m \u001b[0mc\u001b[0m\u001b[0;34m=\u001b[0m\u001b[0mnp\u001b[0m\u001b[0;34m.\u001b[0m\u001b[0mconcatenate\u001b[0m\u001b[0;34m(\u001b[0m\u001b[0;34m[\u001b[0m\u001b[0mx\u001b[0m\u001b[0;34m,\u001b[0m\u001b[0mv\u001b[0m\u001b[0;34m]\u001b[0m\u001b[0;34m)\u001b[0m\u001b[0;34m\u001b[0m\u001b[0;34m\u001b[0m\u001b[0m\n\u001b[0m\u001b[1;32m      3\u001b[0m \u001b[0mprint\u001b[0m\u001b[0;34m(\u001b[0m\u001b[0mc\u001b[0m\u001b[0;34m)\u001b[0m\u001b[0;34m\u001b[0m\u001b[0;34m\u001b[0m\u001b[0m\n",
            "\u001b[0;31mValueError\u001b[0m: all the input arrays must have same number of dimensions, but the array at index 0 has 2 dimension(s) and the array at index 1 has 1 dimension(s)"
          ]
        }
      ]
    },
    {
      "cell_type": "markdown",
      "source": [
        "*While concatenating the input arrays must have same number of dimensions. But in the source code array 'x' has 2 dimensions and the array 'v' has 1 dimension due to which decoder raised the \"valueError\" error.*"
      ],
      "metadata": {
        "id": "ELhs3StCdsrJ"
      }
    },
    {
      "cell_type": "markdown",
      "source": [
        "Problem - 4: Matrix Operation"
      ],
      "metadata": {
        "id": "XRoMhkktlIHl"
      }
    },
    {
      "cell_type": "code",
      "source": [
        "import numpy as np\n",
        "A = np.array([[3,4],[7,8]])\n",
        "B = np.array([[5,3],[2,1]])\n"
      ],
      "metadata": {
        "id": "WpK72upIlFwK"
      },
      "execution_count": null,
      "outputs": []
    },
    {
      "cell_type": "code",
      "source": [
        "import numpy as np\n",
        "Ainv=np.linalg.inv(A)\n",
        "print(Ainv)\n",
        "\n",
        "prove=np.dot(A,Ainv)\n",
        "print(prove)"
      ],
      "metadata": {
        "colab": {
          "base_uri": "https://localhost:8080/"
        },
        "id": "DzpvdGOFlXU6",
        "outputId": "14097c53-efb0-416a-e9fa-386d97e64c03"
      },
      "execution_count": null,
      "outputs": [
        {
          "output_type": "stream",
          "name": "stdout",
          "text": [
            "[[-2.    1.  ]\n",
            " [ 1.75 -0.75]]\n",
            "[[1.00000000e+00 0.00000000e+00]\n",
            " [1.77635684e-15 1.00000000e+00]]\n"
          ]
        }
      ]
    },
    {
      "cell_type": "code",
      "source": [
        "ab=np.dot(A,B)\n",
        "print(ab)\n",
        "ba=np.dot(B,A)\n",
        "print(ba)\n",
        "print(\"Hence, AB!=BA\")"
      ],
      "metadata": {
        "colab": {
          "base_uri": "https://localhost:8080/"
        },
        "id": "qPryI423u3C-",
        "outputId": "4f9f8ffc-5bf0-4d17-8470-e050b782175d"
      },
      "execution_count": null,
      "outputs": [
        {
          "output_type": "stream",
          "name": "stdout",
          "text": [
            "[[23 13]\n",
            " [51 29]]\n",
            "[[36 44]\n",
            " [13 16]]\n",
            "Hence, AB!=BA\n"
          ]
        }
      ]
    },
    {
      "cell_type": "code",
      "source": [
        "import numpy as np\n",
        "ab=np.matmul(A,B)\n",
        "ab_transpose=np.transpose(ab)\n",
        "print(ab_transpose)\n",
        "\n",
        "a_transpose=np.transpose(A)\n",
        "b_transpose=np.transpose(B)\n",
        "ba=np.dot(b_transpose,a_transpose)\n",
        "print(ba)\n",
        "\n",
        "print(\"Hencce (AB)_tranpose == B_transpose . A_transpose\")\n"
      ],
      "metadata": {
        "colab": {
          "base_uri": "https://localhost:8080/"
        },
        "id": "q1MGEcaSvvhz",
        "outputId": "52e80bab-4e1b-4194-b144-ff7305e37a1d"
      },
      "execution_count": null,
      "outputs": [
        {
          "output_type": "stream",
          "name": "stdout",
          "text": [
            "[[23 51]\n",
            " [13 29]]\n",
            "[[23 51]\n",
            " [13 29]]\n",
            "Hencce (AB)_tranpose == B_transpose . A_transpose\n"
          ]
        }
      ]
    },
    {
      "cell_type": "code",
      "source": [
        "import numpy as np\n",
        "print(\"2x-3y+z=-1\\nx-y+2z=-3\\n3x+y-z=9\\n \")\n",
        "print(\"In Matrix form:\\n\")\n",
        "\n",
        "A=np.array([[2,-3,1],[1,-1,2],[3,1,-1]])\n",
        "B=np.array([-1,-3,9])\n",
        "print(f\"A={A}\\nB={B}\\n\")\n",
        "A_det=np.linalg.det(A)\n",
        "print(f\"A_det:{A_det}\\n\")\n",
        "A_inv=np.linalg.inv(A)\n",
        "print(f\"A_inverse:{A_inv}\\n\")\n",
        "X=np.dot(A_inv,B)\n",
        "print(f\"A'.B={X}\")\n"
      ],
      "metadata": {
        "colab": {
          "base_uri": "https://localhost:8080/"
        },
        "id": "hYeV2G1oxoGO",
        "outputId": "8531fb15-f291-4b19-ee06-148d0259b087"
      },
      "execution_count": null,
      "outputs": [
        {
          "output_type": "stream",
          "name": "stdout",
          "text": [
            "2x-3y+z=-1\n",
            "x-y+2z=-3\n",
            "3x+y-z=9\n",
            " \n",
            "In Matrix form:\n",
            "\n",
            "A=[[ 2 -3  1]\n",
            " [ 1 -1  2]\n",
            " [ 3  1 -1]]\n",
            "B=[-1 -3  9]\n",
            "\n",
            "A_det:-19.000000000000004\n",
            "\n",
            "A_inverse:[[ 0.05263158  0.10526316  0.26315789]\n",
            " [-0.36842105  0.26315789  0.15789474]\n",
            " [-0.21052632  0.57894737 -0.05263158]]\n",
            "\n",
            "A'.B=[ 2.  1. -2.]\n"
          ]
        }
      ]
    },
    {
      "cell_type": "markdown",
      "source": [
        "# **Experiment: **"
      ],
      "metadata": {
        "id": "vc2ciVFo2isS"
      }
    },
    {
      "cell_type": "code",
      "source": [
        "import time\n",
        "import numpy as np\n",
        "\n",
        "# 1. Element-wise Addition\n",
        "\n",
        "# Using Python lists\n",
        "list1 = [i for i in range(1000000)]\n",
        "list2 = [i for i in range(1000000)]\n",
        "\n",
        "start_time = time.time()\n",
        "result_list_add = [list1[i] + list2[i] for i in range(1000000)]\n",
        "end_time = time.time()\n",
        "print(f\"Time taken for element-wise addition using Python lists: {end_time - start_time} seconds\")\n",
        "\n",
        "# Using NumPy arrays\n",
        "array1 = np.arange(1000000)\n",
        "array2 = np.arange(1000000)\n",
        "\n",
        "start_time = time.time()\n",
        "result_array_add = array1 + array2\n",
        "end_time = time.time()\n",
        "print(f\"Time taken for element-wise addition using NumPy arrays: {end_time - start_time} seconds\")\n"
      ],
      "metadata": {
        "colab": {
          "base_uri": "https://localhost:8080/"
        },
        "id": "4FjTds1n2hCh",
        "outputId": "0ac44d03-5f83-4d34-af8d-f816d9f6a7a5"
      },
      "execution_count": null,
      "outputs": [
        {
          "output_type": "stream",
          "name": "stdout",
          "text": [
            "Time taken for element-wise addition using Python lists: 0.16325759887695312 seconds\n",
            "Time taken for element-wise addition using NumPy arrays: 0.0040302276611328125 seconds\n"
          ]
        }
      ]
    },
    {
      "cell_type": "code",
      "source": [
        "import time\n",
        "import numpy as np\n",
        "\n",
        "# 2. Element-wise Multiplication\n",
        "\n",
        "# Using Python lists\n",
        "start_time = time.time()\n",
        "result_list_mul = [list1[i] * list2[i] for i in range(1000000)]\n",
        "end_time = time.time()\n",
        "print(f\"Time taken for element-wise multiplication using Python lists: {end_time - start_time} seconds\")\n",
        "\n",
        "# Using NumPy arrays\n",
        "start_time = time.time()\n",
        "result_array_mul = array1 * array2\n",
        "end_time = time.time()\n",
        "print(f\"Time taken for element-wise multiplication using NumPy arrays: {end_time - start_time} seconds\")"
      ],
      "metadata": {
        "colab": {
          "base_uri": "https://localhost:8080/"
        },
        "id": "KuvsctZN3z2I",
        "outputId": "1dedc14a-e688-40ad-e3a5-d17c618898dc"
      },
      "execution_count": null,
      "outputs": [
        {
          "output_type": "stream",
          "name": "stdout",
          "text": [
            "Time taken for element-wise multiplication using Python lists: 0.3307974338531494 seconds\n",
            "Time taken for element-wise multiplication using NumPy arrays: 0.006510019302368164 seconds\n"
          ]
        }
      ]
    },
    {
      "cell_type": "code",
      "source": [
        "import time\n",
        "import numpy as np\n",
        "\n",
        "# 3. Dot Product\n",
        "\n",
        "# Using Python lists\n",
        "start_time = time.time()\n",
        "dot_product_list = sum(list1[i] * list2[i] for i in range(1000000))\n",
        "end_time = time.time()\n",
        "print(f\"Time taken for dot product using Python lists: {end_time - start_time} seconds\")\n",
        "\n",
        "# Using NumPy arrays\n",
        "start_time = time.time()\n",
        "dot_product_array = np.dot(array1, array2)\n",
        "end_time = time.time()\n",
        "print(f\"Time taken for dot product using NumPy arrays: {end_time - start_time} seconds\")\n"
      ],
      "metadata": {
        "colab": {
          "base_uri": "https://localhost:8080/"
        },
        "id": "Cl1g0KWf38bF",
        "outputId": "5ea83ef8-5ec4-4f7d-857c-83b16452bd9e"
      },
      "execution_count": null,
      "outputs": [
        {
          "output_type": "stream",
          "name": "stdout",
          "text": [
            "Time taken for dot product using Python lists: 0.3119204044342041 seconds\n",
            "Time taken for dot product using NumPy arrays: 0.002804279327392578 seconds\n"
          ]
        }
      ]
    },
    {
      "cell_type": "code",
      "source": [
        "import time\n",
        "import numpy as np\n",
        "\n",
        "# 4. Matrix Multiplication\n",
        "\n",
        "# Using Python lists\n",
        "matrix1 = [[i for i in range(1000)] for _ in range(1000)]\n",
        "matrix2 = [[i for i in range(1000)] for _ in range(1000)]\n",
        "\n",
        "start_time = time.time()\n",
        "result_matrix_list = [[sum(matrix1[i][k] * matrix2[k][j] for k in range(1000)) for j in range(1000)] for i in range(1000)]\n",
        "end_time = time.time()\n",
        "print(f\"Time taken for matrix multiplication using Python lists: {end_time - start_time} seconds\")\n",
        "\n",
        "# Using NumPy arrays\n",
        "matrix1_np = np.arange(1000000).reshape(1000, 1000)\n",
        "matrix2_np = np.arange(1000000).reshape(1000, 1000)\n",
        "\n",
        "start_time = time.time()\n",
        "result_matrix_np = np.dot(matrix1_np, matrix2_np)\n",
        "end_time = time.time()\n",
        "print(f\"Time taken for matrix multiplication using NumPy arrays: {end_time - start_time} seconds\")\n"
      ],
      "metadata": {
        "id": "n1IEUfQJ4LNc",
        "colab": {
          "base_uri": "https://localhost:8080/"
        },
        "outputId": "cb55b1ea-1f2b-4611-faa3-a4d0c3bb9af0"
      },
      "execution_count": 230,
      "outputs": [
        {
          "output_type": "stream",
          "name": "stdout",
          "text": [
            "Time taken for matrix multiplication using Python lists: 253.15927624702454 seconds\n",
            "Time taken for matrix multiplication using NumPy arrays: 1.2355778217315674 seconds\n"
          ]
        }
      ]
    }
  ]
}